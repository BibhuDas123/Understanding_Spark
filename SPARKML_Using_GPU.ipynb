{
  "nbformat": 4,
  "nbformat_minor": 0,
  "metadata": {
    "accelerator": "GPU",
    "colab": {
      "name": "SPARKML Using GPU.ipynb",
      "provenance": [],
      "authorship_tag": "ABX9TyOQ00BJhup3w+14rUArddso",
      "include_colab_link": true
    },
    "kernelspec": {
      "display_name": "Python 3",
      "name": "python3"
    }
  },
  "cells": [
    {
      "cell_type": "markdown",
      "metadata": {
        "id": "view-in-github",
        "colab_type": "text"
      },
      "source": [
        "<a href=\"https://colab.research.google.com/github/BibhuDas123/Understanding_Spark/blob/main/SPARKML_Using_GPU.ipynb\" target=\"_parent\"><img src=\"https://colab.research.google.com/assets/colab-badge.svg\" alt=\"Open In Colab\"/></a>"
      ]
    },
    {
      "cell_type": "code",
      "metadata": {
        "colab": {
          "base_uri": "https://localhost:8080/"
        },
        "id": "IZ82qz8oNy3G",
        "outputId": "c4333c23-27e3-4348-a3c4-08ef731ffe4c"
      },
      "source": [
        "!nvidia-smi\r\n",
        "#We are using xgboost jar and saprk jar binding with GPU  for porcessing.The xgboost is not supported directly \r\n",
        "#,so we are using xgboost jar binding fo this cause.The saprk is itself a distributed system still then we are using \r\n",
        "# for high perofrmance and computation we using GPU with spark.The spark generally does row by row operation but in case you want\r\n",
        "# to acculmuate the memory and do vectorisation then we can use spark along with xgboost with GPU exceution capability.Ex-weather forecast.You need to do weather forecast for \r\n",
        "# different zip codes parallely ther we can use it."
      ],
      "execution_count": 4,
      "outputs": [
        {
          "output_type": "stream",
          "text": [
            "Thu Jan  7 05:41:12 2021       \n",
            "+-----------------------------------------------------------------------------+\n",
            "| NVIDIA-SMI 460.27.04    Driver Version: 418.67       CUDA Version: 10.1     |\n",
            "|-------------------------------+----------------------+----------------------+\n",
            "| GPU  Name        Persistence-M| Bus-Id        Disp.A | Volatile Uncorr. ECC |\n",
            "| Fan  Temp  Perf  Pwr:Usage/Cap|         Memory-Usage | GPU-Util  Compute M. |\n",
            "|                               |                      |               MIG M. |\n",
            "|===============================+======================+======================|\n",
            "|   0  Tesla T4            Off  | 00000000:00:04.0 Off |                    0 |\n",
            "| N/A   53C    P8    10W /  70W |      0MiB / 15079MiB |      0%      Default |\n",
            "|                               |                      |                 ERR! |\n",
            "+-------------------------------+----------------------+----------------------+\n",
            "                                                                               \n",
            "+-----------------------------------------------------------------------------+\n",
            "| Processes:                                                                  |\n",
            "|  GPU   GI   CI        PID   Type   Process name                  GPU Memory |\n",
            "|        ID   ID                                                   Usage      |\n",
            "|=============================================================================|\n",
            "|  No running processes found                                                 |\n",
            "+-----------------------------------------------------------------------------+\n"
          ],
          "name": "stdout"
        }
      ]
    },
    {
      "cell_type": "code",
      "metadata": {
        "id": "D92txKU8N6df"
      },
      "source": [
        "!apt-get install openjdk-8-jdk-headless -qq > /dev/null\r\n",
        "!wget -q https://archive.apache.org/dist/spark/spark-2.4.5/spark-2.4.5-bin-hadoop2.7.tgz\r\n",
        "!tar xf spark-2.4.5-bin-hadoop2.7.tgz\r\n",
        "!pip install -q findspark"
      ],
      "execution_count": 1,
      "outputs": []
    },
    {
      "cell_type": "code",
      "metadata": {
        "id": "nw6shgcgN6ge",
        "colab": {
          "base_uri": "https://localhost:8080/"
        },
        "outputId": "19d668a5-1bb3-41ed-e336-f2f5397304ea"
      },
      "source": [
        "!wget https://repo1.maven.org/maven2/ai/rapids/cudf/0.9.2/cudf-0.9.2-cuda10-1.jar\r\n",
        "!wget https://repo1.maven.org/maven2/ai/rapids/xgboost4j_2.x/1.0.0-Beta5/xgboost4j_2.x-1.0.0-Beta5.jar\r\n",
        "!wget https://repo1.maven.org/maven2/ai/rapids/xgboost4j-spark_2.x/1.0.0-Beta5/xgboost4j-spark_2.x-1.0.0-Beta5.jar"
      ],
      "execution_count": 2,
      "outputs": [
        {
          "output_type": "stream",
          "text": [
            "--2021-01-07 06:52:58--  https://repo1.maven.org/maven2/ai/rapids/cudf/0.9.2/cudf-0.9.2-cuda10-1.jar\n",
            "Resolving repo1.maven.org (repo1.maven.org)... 199.232.192.209, 199.232.196.209\n",
            "Connecting to repo1.maven.org (repo1.maven.org)|199.232.192.209|:443... connected.\n",
            "HTTP request sent, awaiting response... 200 OK\n",
            "Length: 64759406 (62M) [application/java-archive]\n",
            "Saving to: ‘cudf-0.9.2-cuda10-1.jar’\n",
            "\n",
            "cudf-0.9.2-cuda10-1 100%[===================>]  61.76M   300MB/s    in 0.2s    \n",
            "\n",
            "2021-01-07 06:52:58 (300 MB/s) - ‘cudf-0.9.2-cuda10-1.jar’ saved [64759406/64759406]\n",
            "\n",
            "--2021-01-07 06:52:59--  https://repo1.maven.org/maven2/ai/rapids/xgboost4j_2.x/1.0.0-Beta5/xgboost4j_2.x-1.0.0-Beta5.jar\n",
            "Resolving repo1.maven.org (repo1.maven.org)... 199.232.192.209, 199.232.196.209\n",
            "Connecting to repo1.maven.org (repo1.maven.org)|199.232.192.209|:443... connected.\n",
            "HTTP request sent, awaiting response... 200 OK\n",
            "Length: 349225621 (333M) [application/java-archive]\n",
            "Saving to: ‘xgboost4j_2.x-1.0.0-Beta5.jar’\n",
            "\n",
            "xgboost4j_2.x-1.0.0 100%[===================>] 333.05M   257MB/s    in 1.3s    \n",
            "\n",
            "2021-01-07 06:53:00 (257 MB/s) - ‘xgboost4j_2.x-1.0.0-Beta5.jar’ saved [349225621/349225621]\n",
            "\n",
            "--2021-01-07 06:53:00--  https://repo1.maven.org/maven2/ai/rapids/xgboost4j-spark_2.x/1.0.0-Beta5/xgboost4j-spark_2.x-1.0.0-Beta5.jar\n",
            "Resolving repo1.maven.org (repo1.maven.org)... 199.232.192.209, 199.232.196.209\n",
            "Connecting to repo1.maven.org (repo1.maven.org)|199.232.192.209|:443... connected.\n",
            "HTTP request sent, awaiting response... 200 OK\n",
            "Length: 4829218 (4.6M) [application/java-archive]\n",
            "Saving to: ‘xgboost4j-spark_2.x-1.0.0-Beta5.jar’\n",
            "\n",
            "xgboost4j-spark_2.x 100%[===================>]   4.61M  --.-KB/s    in 0.04s   \n",
            "\n",
            "2021-01-07 06:53:00 (122 MB/s) - ‘xgboost4j-spark_2.x-1.0.0-Beta5.jar’ saved [4829218/4829218]\n",
            "\n"
          ],
          "name": "stdout"
        }
      ]
    },
    {
      "cell_type": "code",
      "metadata": {
        "id": "YjhhpjlyN6ji",
        "colab": {
          "base_uri": "https://localhost:8080/"
        },
        "outputId": "7abd3fac-871a-4f6c-c7ec-812f96c44be5"
      },
      "source": [
        "\r\n",
        "!ls\r\n",
        "!pwd"
      ],
      "execution_count": 3,
      "outputs": [
        {
          "output_type": "stream",
          "text": [
            "cudf-0.9.2-cuda10-1.jar    spark-2.4.5-bin-hadoop2.7.tgz\n",
            "sample_data\t\t   xgboost4j_2.x-1.0.0-Beta5.jar\n",
            "spark-2.4.5-bin-hadoop2.7  xgboost4j-spark_2.x-1.0.0-Beta5.jar\n",
            "/content\n"
          ],
          "name": "stdout"
        }
      ]
    },
    {
      "cell_type": "code",
      "metadata": {
        "id": "IUgd3i5GN6mn"
      },
      "source": [
        "import os\r\n",
        "os.environ[\"JAVA_HOME\"] = \"/usr/lib/jvm/java-8-openjdk-amd64\"\r\n",
        "os.environ[\"SPARK_HOME\"] = \"/content/spark-2.4.5-bin-hadoop2.7\"\r\n"
      ],
      "execution_count": 9,
      "outputs": []
    },
    {
      "cell_type": "code",
      "metadata": {
        "id": "yRpbWHNbN6py"
      },
      "source": [
        "#setting three jar into a path.\r\n",
        "os.environ['PYSPARK_SUBMIT_ARGS'] = '--jars /content/cudf-0.9.2-cuda10-1.jar,/content/xgboost4j_2.x-1.0.0-Beta5.jar,/content/xgboost4j-spark_2.x-1.0.0-Beta5.jar pyspark-shell'"
      ],
      "execution_count": 10,
      "outputs": []
    },
    {
      "cell_type": "code",
      "metadata": {
        "id": "H6xDMwZVN6st"
      },
      "source": [
        "import findspark\r\n",
        "findspark.init()\r\n",
        "from pyspark.sql import SparkSession\r\n",
        "#here we are intailized as wwe dont have distubuted system so we have local system as our enivornment.\r\n",
        "spark = SparkSession.builder.master(\"local[*]\").getOrCreate()\r\n",
        "#allocation of driver and exceutor memory(Here in our case we will have colab as both driver and exceutor a we dont have distubuted system.)\r\n",
        "#spark.conf.set(\"spark.executor.memory\", \"2g\")\r\n",
        "#spark.conf.set(\"spark.driver.memory\", \"2g\")\r\n",
        "spark.sparkContext.addPyFile('/content/xgboost4j-spark_2.x-1.0.0-Beta5.jar')"
      ],
      "execution_count": 11,
      "outputs": []
    },
    {
      "cell_type": "code",
      "metadata": {
        "id": "JO-NEjiSW169"
      },
      "source": [
        "from ml.dmlc.xgboost4j.scala.spark import XGBoostClassificationModel, XGBoostClassifier\n",
        "from ml.dmlc.xgboost4j.scala.spark.rapids import GpuDataReader\n",
        "from pyspark.ml.evaluation import MulticlassClassificationEvaluator\n",
        "import numpy as np\n",
        "import pandas as pd"
      ],
      "execution_count": 12,
      "outputs": []
    },
    {
      "cell_type": "code",
      "metadata": {
        "id": "uTAG2PAAN6v2"
      },
      "source": [
        "from sklearn.datasets import fetch_openml\r\n",
        "covtyp=fetch_openml(name='covertype',version=4)"
      ],
      "execution_count": 13,
      "outputs": []
    },
    {
      "cell_type": "code",
      "metadata": {
        "id": "lmbq7x6ebGmr",
        "outputId": "2a77991a-2390-47c2-c3fa-b00a58df5ade",
        "colab": {
          "base_uri": "https://localhost:8080/"
        }
      },
      "source": [
        "covtyp.data.shape"
      ],
      "execution_count": 14,
      "outputs": [
        {
          "output_type": "execute_result",
          "data": {
            "text/plain": [
              "(581012, 54)"
            ]
          },
          "metadata": {
            "tags": []
          },
          "execution_count": 14
        }
      ]
    },
    {
      "cell_type": "code",
      "metadata": {
        "id": "U1pQ1GfQbGqY",
        "outputId": "e510188f-5567-4e1f-9244-fc61618be00c",
        "colab": {
          "base_uri": "https://localhost:8080/"
        }
      },
      "source": [
        "np.unique(covtyp.target)"
      ],
      "execution_count": 15,
      "outputs": [
        {
          "output_type": "execute_result",
          "data": {
            "text/plain": [
              "array(['1', '2', '3', '4', '5', '6', '7'], dtype=object)"
            ]
          },
          "metadata": {
            "tags": []
          },
          "execution_count": 15
        }
      ]
    },
    {
      "cell_type": "code",
      "metadata": {
        "id": "LzYkoJrsbGuS"
      },
      "source": [
        "cov_df=pd.DataFrame(data=np.c_[covtyp['data'],covtyp['target']],\r\n",
        "                    columns=covtyp['feature_names']+['target'])"
      ],
      "execution_count": 16,
      "outputs": []
    },
    {
      "cell_type": "code",
      "metadata": {
        "id": "dGB637oebG6q",
        "outputId": "d9d57555-59b4-4954-fb0b-790231a05727",
        "colab": {
          "base_uri": "https://localhost:8080/",
          "height": 224
        }
      },
      "source": [
        "cov_df.head()"
      ],
      "execution_count": 17,
      "outputs": [
        {
          "output_type": "execute_result",
          "data": {
            "text/html": [
              "<div>\n",
              "<style scoped>\n",
              "    .dataframe tbody tr th:only-of-type {\n",
              "        vertical-align: middle;\n",
              "    }\n",
              "\n",
              "    .dataframe tbody tr th {\n",
              "        vertical-align: top;\n",
              "    }\n",
              "\n",
              "    .dataframe thead th {\n",
              "        text-align: right;\n",
              "    }\n",
              "</style>\n",
              "<table border=\"1\" class=\"dataframe\">\n",
              "  <thead>\n",
              "    <tr style=\"text-align: right;\">\n",
              "      <th></th>\n",
              "      <th>Elevation</th>\n",
              "      <th>Aspect</th>\n",
              "      <th>Slope</th>\n",
              "      <th>Horizontal_Distance_To_Hydrology</th>\n",
              "      <th>Vertical_Distance_To_Hydrology</th>\n",
              "      <th>Horizontal_Distance_To_Roadways</th>\n",
              "      <th>Hillshade_9am</th>\n",
              "      <th>Hillshade_Noon</th>\n",
              "      <th>Hillshade_3pm</th>\n",
              "      <th>Horizontal_Distance_To_Fire_Points</th>\n",
              "      <th>Wilderness_Area1</th>\n",
              "      <th>Wilderness_Area2</th>\n",
              "      <th>Wilderness_Area3</th>\n",
              "      <th>Wilderness_Area4</th>\n",
              "      <th>Soil_Type1</th>\n",
              "      <th>Soil_Type2</th>\n",
              "      <th>Soil_Type3</th>\n",
              "      <th>Soil_Type4</th>\n",
              "      <th>Soil_Type5</th>\n",
              "      <th>Soil_Type6</th>\n",
              "      <th>Soil_Type7</th>\n",
              "      <th>Soil_Type8</th>\n",
              "      <th>Soil_Type9</th>\n",
              "      <th>Soil_Type10</th>\n",
              "      <th>Soil_Type11</th>\n",
              "      <th>Soil_Type12</th>\n",
              "      <th>Soil_Type13</th>\n",
              "      <th>Soil_Type14</th>\n",
              "      <th>Soil_Type15</th>\n",
              "      <th>Soil_Type16</th>\n",
              "      <th>Soil_Type17</th>\n",
              "      <th>Soil_Type18</th>\n",
              "      <th>Soil_Type19</th>\n",
              "      <th>Soil_Type20</th>\n",
              "      <th>Soil_Type21</th>\n",
              "      <th>Soil_Type22</th>\n",
              "      <th>Soil_Type23</th>\n",
              "      <th>Soil_Type24</th>\n",
              "      <th>Soil_Type25</th>\n",
              "      <th>Soil_Type26</th>\n",
              "      <th>Soil_Type27</th>\n",
              "      <th>Soil_Type28</th>\n",
              "      <th>Soil_Type29</th>\n",
              "      <th>Soil_Type30</th>\n",
              "      <th>Soil_Type31</th>\n",
              "      <th>Soil_Type32</th>\n",
              "      <th>Soil_Type33</th>\n",
              "      <th>Soil_Type34</th>\n",
              "      <th>Soil_Type35</th>\n",
              "      <th>Soil_Type36</th>\n",
              "      <th>Soil_Type37</th>\n",
              "      <th>Soil_Type38</th>\n",
              "      <th>Soil_Type39</th>\n",
              "      <th>Soil_Type40</th>\n",
              "      <th>target</th>\n",
              "    </tr>\n",
              "  </thead>\n",
              "  <tbody>\n",
              "    <tr>\n",
              "      <th>0</th>\n",
              "      <td>2596</td>\n",
              "      <td>51</td>\n",
              "      <td>3</td>\n",
              "      <td>258</td>\n",
              "      <td>0</td>\n",
              "      <td>510</td>\n",
              "      <td>221</td>\n",
              "      <td>232</td>\n",
              "      <td>148</td>\n",
              "      <td>6279</td>\n",
              "      <td>1</td>\n",
              "      <td>0</td>\n",
              "      <td>0</td>\n",
              "      <td>0</td>\n",
              "      <td>0</td>\n",
              "      <td>0</td>\n",
              "      <td>0</td>\n",
              "      <td>0</td>\n",
              "      <td>0</td>\n",
              "      <td>0</td>\n",
              "      <td>0</td>\n",
              "      <td>0</td>\n",
              "      <td>0</td>\n",
              "      <td>0</td>\n",
              "      <td>0</td>\n",
              "      <td>0</td>\n",
              "      <td>0</td>\n",
              "      <td>0</td>\n",
              "      <td>0</td>\n",
              "      <td>0</td>\n",
              "      <td>0</td>\n",
              "      <td>0</td>\n",
              "      <td>0</td>\n",
              "      <td>0</td>\n",
              "      <td>0</td>\n",
              "      <td>0</td>\n",
              "      <td>0</td>\n",
              "      <td>0</td>\n",
              "      <td>0</td>\n",
              "      <td>0</td>\n",
              "      <td>0</td>\n",
              "      <td>0</td>\n",
              "      <td>1</td>\n",
              "      <td>0</td>\n",
              "      <td>0</td>\n",
              "      <td>0</td>\n",
              "      <td>0</td>\n",
              "      <td>0</td>\n",
              "      <td>0</td>\n",
              "      <td>0</td>\n",
              "      <td>0</td>\n",
              "      <td>0</td>\n",
              "      <td>0</td>\n",
              "      <td>0</td>\n",
              "      <td>5</td>\n",
              "    </tr>\n",
              "    <tr>\n",
              "      <th>1</th>\n",
              "      <td>2590</td>\n",
              "      <td>56</td>\n",
              "      <td>2</td>\n",
              "      <td>212</td>\n",
              "      <td>-6</td>\n",
              "      <td>390</td>\n",
              "      <td>220</td>\n",
              "      <td>235</td>\n",
              "      <td>151</td>\n",
              "      <td>6225</td>\n",
              "      <td>1</td>\n",
              "      <td>0</td>\n",
              "      <td>0</td>\n",
              "      <td>0</td>\n",
              "      <td>0</td>\n",
              "      <td>0</td>\n",
              "      <td>0</td>\n",
              "      <td>0</td>\n",
              "      <td>0</td>\n",
              "      <td>0</td>\n",
              "      <td>0</td>\n",
              "      <td>0</td>\n",
              "      <td>0</td>\n",
              "      <td>0</td>\n",
              "      <td>0</td>\n",
              "      <td>0</td>\n",
              "      <td>0</td>\n",
              "      <td>0</td>\n",
              "      <td>0</td>\n",
              "      <td>0</td>\n",
              "      <td>0</td>\n",
              "      <td>0</td>\n",
              "      <td>0</td>\n",
              "      <td>0</td>\n",
              "      <td>0</td>\n",
              "      <td>0</td>\n",
              "      <td>0</td>\n",
              "      <td>0</td>\n",
              "      <td>0</td>\n",
              "      <td>0</td>\n",
              "      <td>0</td>\n",
              "      <td>0</td>\n",
              "      <td>1</td>\n",
              "      <td>0</td>\n",
              "      <td>0</td>\n",
              "      <td>0</td>\n",
              "      <td>0</td>\n",
              "      <td>0</td>\n",
              "      <td>0</td>\n",
              "      <td>0</td>\n",
              "      <td>0</td>\n",
              "      <td>0</td>\n",
              "      <td>0</td>\n",
              "      <td>0</td>\n",
              "      <td>5</td>\n",
              "    </tr>\n",
              "    <tr>\n",
              "      <th>2</th>\n",
              "      <td>2804</td>\n",
              "      <td>139</td>\n",
              "      <td>9</td>\n",
              "      <td>268</td>\n",
              "      <td>65</td>\n",
              "      <td>3180</td>\n",
              "      <td>234</td>\n",
              "      <td>238</td>\n",
              "      <td>135</td>\n",
              "      <td>6121</td>\n",
              "      <td>1</td>\n",
              "      <td>0</td>\n",
              "      <td>0</td>\n",
              "      <td>0</td>\n",
              "      <td>0</td>\n",
              "      <td>0</td>\n",
              "      <td>0</td>\n",
              "      <td>0</td>\n",
              "      <td>0</td>\n",
              "      <td>0</td>\n",
              "      <td>0</td>\n",
              "      <td>0</td>\n",
              "      <td>0</td>\n",
              "      <td>0</td>\n",
              "      <td>0</td>\n",
              "      <td>1</td>\n",
              "      <td>0</td>\n",
              "      <td>0</td>\n",
              "      <td>0</td>\n",
              "      <td>0</td>\n",
              "      <td>0</td>\n",
              "      <td>0</td>\n",
              "      <td>0</td>\n",
              "      <td>0</td>\n",
              "      <td>0</td>\n",
              "      <td>0</td>\n",
              "      <td>0</td>\n",
              "      <td>0</td>\n",
              "      <td>0</td>\n",
              "      <td>0</td>\n",
              "      <td>0</td>\n",
              "      <td>0</td>\n",
              "      <td>0</td>\n",
              "      <td>0</td>\n",
              "      <td>0</td>\n",
              "      <td>0</td>\n",
              "      <td>0</td>\n",
              "      <td>0</td>\n",
              "      <td>0</td>\n",
              "      <td>0</td>\n",
              "      <td>0</td>\n",
              "      <td>0</td>\n",
              "      <td>0</td>\n",
              "      <td>0</td>\n",
              "      <td>2</td>\n",
              "    </tr>\n",
              "    <tr>\n",
              "      <th>3</th>\n",
              "      <td>2785</td>\n",
              "      <td>155</td>\n",
              "      <td>18</td>\n",
              "      <td>242</td>\n",
              "      <td>118</td>\n",
              "      <td>3090</td>\n",
              "      <td>238</td>\n",
              "      <td>238</td>\n",
              "      <td>122</td>\n",
              "      <td>6211</td>\n",
              "      <td>1</td>\n",
              "      <td>0</td>\n",
              "      <td>0</td>\n",
              "      <td>0</td>\n",
              "      <td>0</td>\n",
              "      <td>0</td>\n",
              "      <td>0</td>\n",
              "      <td>0</td>\n",
              "      <td>0</td>\n",
              "      <td>0</td>\n",
              "      <td>0</td>\n",
              "      <td>0</td>\n",
              "      <td>0</td>\n",
              "      <td>0</td>\n",
              "      <td>0</td>\n",
              "      <td>0</td>\n",
              "      <td>0</td>\n",
              "      <td>0</td>\n",
              "      <td>0</td>\n",
              "      <td>0</td>\n",
              "      <td>0</td>\n",
              "      <td>0</td>\n",
              "      <td>0</td>\n",
              "      <td>0</td>\n",
              "      <td>0</td>\n",
              "      <td>0</td>\n",
              "      <td>0</td>\n",
              "      <td>0</td>\n",
              "      <td>0</td>\n",
              "      <td>0</td>\n",
              "      <td>0</td>\n",
              "      <td>0</td>\n",
              "      <td>0</td>\n",
              "      <td>1</td>\n",
              "      <td>0</td>\n",
              "      <td>0</td>\n",
              "      <td>0</td>\n",
              "      <td>0</td>\n",
              "      <td>0</td>\n",
              "      <td>0</td>\n",
              "      <td>0</td>\n",
              "      <td>0</td>\n",
              "      <td>0</td>\n",
              "      <td>0</td>\n",
              "      <td>2</td>\n",
              "    </tr>\n",
              "    <tr>\n",
              "      <th>4</th>\n",
              "      <td>2595</td>\n",
              "      <td>45</td>\n",
              "      <td>2</td>\n",
              "      <td>153</td>\n",
              "      <td>-1</td>\n",
              "      <td>391</td>\n",
              "      <td>220</td>\n",
              "      <td>234</td>\n",
              "      <td>150</td>\n",
              "      <td>6172</td>\n",
              "      <td>1</td>\n",
              "      <td>0</td>\n",
              "      <td>0</td>\n",
              "      <td>0</td>\n",
              "      <td>0</td>\n",
              "      <td>0</td>\n",
              "      <td>0</td>\n",
              "      <td>0</td>\n",
              "      <td>0</td>\n",
              "      <td>0</td>\n",
              "      <td>0</td>\n",
              "      <td>0</td>\n",
              "      <td>0</td>\n",
              "      <td>0</td>\n",
              "      <td>0</td>\n",
              "      <td>0</td>\n",
              "      <td>0</td>\n",
              "      <td>0</td>\n",
              "      <td>0</td>\n",
              "      <td>0</td>\n",
              "      <td>0</td>\n",
              "      <td>0</td>\n",
              "      <td>0</td>\n",
              "      <td>0</td>\n",
              "      <td>0</td>\n",
              "      <td>0</td>\n",
              "      <td>0</td>\n",
              "      <td>0</td>\n",
              "      <td>0</td>\n",
              "      <td>0</td>\n",
              "      <td>0</td>\n",
              "      <td>0</td>\n",
              "      <td>1</td>\n",
              "      <td>0</td>\n",
              "      <td>0</td>\n",
              "      <td>0</td>\n",
              "      <td>0</td>\n",
              "      <td>0</td>\n",
              "      <td>0</td>\n",
              "      <td>0</td>\n",
              "      <td>0</td>\n",
              "      <td>0</td>\n",
              "      <td>0</td>\n",
              "      <td>0</td>\n",
              "      <td>5</td>\n",
              "    </tr>\n",
              "  </tbody>\n",
              "</table>\n",
              "</div>"
            ],
            "text/plain": [
              "  Elevation Aspect Slope  ... Soil_Type39 Soil_Type40 target\n",
              "0      2596     51     3  ...           0           0      5\n",
              "1      2590     56     2  ...           0           0      5\n",
              "2      2804    139     9  ...           0           0      2\n",
              "3      2785    155    18  ...           0           0      2\n",
              "4      2595     45     2  ...           0           0      5\n",
              "\n",
              "[5 rows x 55 columns]"
            ]
          },
          "metadata": {
            "tags": []
          },
          "execution_count": 17
        }
      ]
    },
    {
      "cell_type": "code",
      "metadata": {
        "id": "RImNY5CobG9x",
        "outputId": "cf5dfcd9-81aa-48c5-ef9c-835f2b763222",
        "colab": {
          "base_uri": "https://localhost:8080/"
        }
      },
      "source": [
        "cov_df['target'].value_counts()"
      ],
      "execution_count": 18,
      "outputs": [
        {
          "output_type": "execute_result",
          "data": {
            "text/plain": [
              "2    283301\n",
              "1    211840\n",
              "3     35754\n",
              "7     20510\n",
              "6     17367\n",
              "5      9493\n",
              "4      2747\n",
              "Name: target, dtype: int64"
            ]
          },
          "metadata": {
            "tags": []
          },
          "execution_count": 18
        }
      ]
    },
    {
      "cell_type": "code",
      "metadata": {
        "id": "u9M3TQV9N6zV",
        "colab": {
          "base_uri": "https://localhost:8080/"
        },
        "outputId": "e3cbd033-5b42-4092-9059-5f56fb26bebc"
      },
      "source": [
        "cov_df.dtypes"
      ],
      "execution_count": 19,
      "outputs": [
        {
          "output_type": "execute_result",
          "data": {
            "text/plain": [
              "Elevation                             object\n",
              "Aspect                                object\n",
              "Slope                                 object\n",
              "Horizontal_Distance_To_Hydrology      object\n",
              "Vertical_Distance_To_Hydrology        object\n",
              "Horizontal_Distance_To_Roadways       object\n",
              "Hillshade_9am                         object\n",
              "Hillshade_Noon                        object\n",
              "Hillshade_3pm                         object\n",
              "Horizontal_Distance_To_Fire_Points    object\n",
              "Wilderness_Area1                      object\n",
              "Wilderness_Area2                      object\n",
              "Wilderness_Area3                      object\n",
              "Wilderness_Area4                      object\n",
              "Soil_Type1                            object\n",
              "Soil_Type2                            object\n",
              "Soil_Type3                            object\n",
              "Soil_Type4                            object\n",
              "Soil_Type5                            object\n",
              "Soil_Type6                            object\n",
              "Soil_Type7                            object\n",
              "Soil_Type8                            object\n",
              "Soil_Type9                            object\n",
              "Soil_Type10                           object\n",
              "Soil_Type11                           object\n",
              "Soil_Type12                           object\n",
              "Soil_Type13                           object\n",
              "Soil_Type14                           object\n",
              "Soil_Type15                           object\n",
              "Soil_Type16                           object\n",
              "Soil_Type17                           object\n",
              "Soil_Type18                           object\n",
              "Soil_Type19                           object\n",
              "Soil_Type20                           object\n",
              "Soil_Type21                           object\n",
              "Soil_Type22                           object\n",
              "Soil_Type23                           object\n",
              "Soil_Type24                           object\n",
              "Soil_Type25                           object\n",
              "Soil_Type26                           object\n",
              "Soil_Type27                           object\n",
              "Soil_Type28                           object\n",
              "Soil_Type29                           object\n",
              "Soil_Type30                           object\n",
              "Soil_Type31                           object\n",
              "Soil_Type32                           object\n",
              "Soil_Type33                           object\n",
              "Soil_Type34                           object\n",
              "Soil_Type35                           object\n",
              "Soil_Type36                           object\n",
              "Soil_Type37                           object\n",
              "Soil_Type38                           object\n",
              "Soil_Type39                           object\n",
              "Soil_Type40                           object\n",
              "target                                object\n",
              "dtype: object"
            ]
          },
          "metadata": {
            "tags": []
          },
          "execution_count": 19
        }
      ]
    },
    {
      "cell_type": "code",
      "metadata": {
        "id": "MsVDxyLdN62C"
      },
      "source": [
        "#as the data is all numeric but but type is object \r\n",
        "for cols in cov_df.columns:\r\n",
        "  cov_df[cols]=pd.to_numeric(cov_df[cols])  "
      ],
      "execution_count": 20,
      "outputs": []
    },
    {
      "cell_type": "code",
      "metadata": {
        "id": "Ecs0YpP6N65a"
      },
      "source": [
        "cov_df['target']=cov_df['target']-1"
      ],
      "execution_count": 21,
      "outputs": []
    },
    {
      "cell_type": "code",
      "metadata": {
        "id": "2ewcaWRZeUZp"
      },
      "source": [
        "train_df=cov_df.sample(frac=0.8,random_state=10) \r\n",
        "test_df=cov_df.drop(train_df.index)"
      ],
      "execution_count": 22,
      "outputs": []
    },
    {
      "cell_type": "code",
      "metadata": {
        "id": "pYw2e9soeUcq",
        "outputId": "f9ef027d-4517-4ec6-8a6b-dc3027e98069",
        "colab": {
          "base_uri": "https://localhost:8080/"
        }
      },
      "source": [
        "#Conver to parquet format,lean in size,spark format\r\n",
        "train_df.to_parquet(fname='covtype_train.parquet',compression='snappy', index=False)\r\n",
        "test_df.to_parquet(fname='covtype_test.parquet',compression='snappy', index=False)"
      ],
      "execution_count": 23,
      "outputs": [
        {
          "output_type": "stream",
          "text": [
            "/usr/local/lib/python3.6/dist-packages/ipykernel_launcher.py:2: FutureWarning: the 'fname'' keyword is deprecated, use 'path' instead\n",
            "  \n",
            "/usr/local/lib/python3.6/dist-packages/ipykernel_launcher.py:3: FutureWarning: the 'fname'' keyword is deprecated, use 'path' instead\n",
            "  This is separate from the ipykernel package so we can avoid doing imports until\n"
          ],
          "name": "stderr"
        }
      ]
    },
    {
      "cell_type": "code",
      "metadata": {
        "id": "PULnnovOeUf9",
        "outputId": "76ba959e-3f2b-4deb-cfec-353e9e240b48",
        "colab": {
          "base_uri": "https://localhost:8080/"
        }
      },
      "source": [
        "!ls"
      ],
      "execution_count": 24,
      "outputs": [
        {
          "output_type": "stream",
          "text": [
            "covtype_test.parquet\t spark-2.4.5-bin-hadoop2.7\n",
            "covtype_train.parquet\t spark-2.4.5-bin-hadoop2.7.tgz\n",
            "cudf-0.9.2-cuda10-1.jar  xgboost4j_2.x-1.0.0-Beta5.jar\n",
            "sample_data\t\t xgboost4j-spark_2.x-1.0.0-Beta5.jar\n"
          ],
          "name": "stdout"
        }
      ]
    },
    {
      "cell_type": "code",
      "metadata": {
        "id": "RUTrZBJseUi_"
      },
      "source": [
        "import pyarrow.parquet as pq"
      ],
      "execution_count": 25,
      "outputs": []
    },
    {
      "cell_type": "code",
      "metadata": {
        "id": "2E2bpmzAeUmI",
        "outputId": "6d1579fe-19b2-49c2-d6dd-0494f45be8e2",
        "colab": {
          "base_uri": "https://localhost:8080/"
        }
      },
      "source": [
        "pq.read_table('covtype_train.parquet')"
      ],
      "execution_count": 26,
      "outputs": [
        {
          "output_type": "execute_result",
          "data": {
            "text/plain": [
              "pyarrow.Table\n",
              "Elevation: double\n",
              "Aspect: double\n",
              "Slope: double\n",
              "Horizontal_Distance_To_Hydrology: double\n",
              "Vertical_Distance_To_Hydrology: double\n",
              "Horizontal_Distance_To_Roadways: double\n",
              "Hillshade_9am: double\n",
              "Hillshade_Noon: double\n",
              "Hillshade_3pm: double\n",
              "Horizontal_Distance_To_Fire_Points: double\n",
              "Wilderness_Area1: double\n",
              "Wilderness_Area2: double\n",
              "Wilderness_Area3: double\n",
              "Wilderness_Area4: double\n",
              "Soil_Type1: double\n",
              "Soil_Type2: double\n",
              "Soil_Type3: double\n",
              "Soil_Type4: double\n",
              "Soil_Type5: double\n",
              "Soil_Type6: double\n",
              "Soil_Type7: double\n",
              "Soil_Type8: double\n",
              "Soil_Type9: double\n",
              "Soil_Type10: double\n",
              "Soil_Type11: double\n",
              "Soil_Type12: double\n",
              "Soil_Type13: double\n",
              "Soil_Type14: double\n",
              "Soil_Type15: double\n",
              "Soil_Type16: double\n",
              "Soil_Type17: double\n",
              "Soil_Type18: double\n",
              "Soil_Type19: double\n",
              "Soil_Type20: double\n",
              "Soil_Type21: double\n",
              "Soil_Type22: double\n",
              "Soil_Type23: double\n",
              "Soil_Type24: double\n",
              "Soil_Type25: double\n",
              "Soil_Type26: double\n",
              "Soil_Type27: double\n",
              "Soil_Type28: double\n",
              "Soil_Type29: double\n",
              "Soil_Type30: double\n",
              "Soil_Type31: double\n",
              "Soil_Type32: double\n",
              "Soil_Type33: double\n",
              "Soil_Type34: double\n",
              "Soil_Type35: double\n",
              "Soil_Type36: double\n",
              "Soil_Type37: double\n",
              "Soil_Type38: double\n",
              "Soil_Type39: double\n",
              "Soil_Type40: double\n",
              "target: int64\n",
              "metadata\n",
              "--------\n",
              "OrderedDict([(b'pandas',\n",
              "              b'{\"index_columns\": [], \"column_indexes\": [], \"columns\": [{\"na'\n",
              "              b'me\": \"Elevation\", \"field_name\": \"Elevation\", \"pandas_type\": '\n",
              "              b'\"float64\", \"numpy_type\": \"float64\", \"metadata\": null}, {\"nam'\n",
              "              b'e\": \"Aspect\", \"field_name\": \"Aspect\", \"pandas_type\": \"float6'\n",
              "              b'4\", \"numpy_type\": \"float64\", \"metadata\": null}, {\"name\": \"Sl'\n",
              "              b'ope\", \"field_name\": \"Slope\", \"pandas_type\": \"float64\", \"nump'\n",
              "              b'y_type\": \"float64\", \"metadata\": null}, {\"name\": \"Horizontal_'\n",
              "              b'Distance_To_Hydrology\", \"field_name\": \"Horizontal_Distance_T'\n",
              "              b'o_Hydrology\", \"pandas_type\": \"float64\", \"numpy_type\": \"float'\n",
              "              b'64\", \"metadata\": null}, {\"name\": \"Vertical_Distance_To_Hydro'\n",
              "              b'logy\", \"field_name\": \"Vertical_Distance_To_Hydrology\", \"pand'\n",
              "              b'as_type\": \"float64\", \"numpy_type\": \"float64\", \"metadata\": nu'\n",
              "              b'll}, {\"name\": \"Horizontal_Distance_To_Roadways\", \"field_name'\n",
              "              b'\": \"Horizontal_Distance_To_Roadways\", \"pandas_type\": \"float6'\n",
              "              b'4\", \"numpy_type\": \"float64\", \"metadata\": null}, {\"name\": \"Hi'\n",
              "              b'llshade_9am\", \"field_name\": \"Hillshade_9am\", \"pandas_type\": '\n",
              "              b'\"float64\", \"numpy_type\": \"float64\", \"metadata\": null}, {\"nam'\n",
              "              b'e\": \"Hillshade_Noon\", \"field_name\": \"Hillshade_Noon\", \"panda'\n",
              "              b's_type\": \"float64\", \"numpy_type\": \"float64\", \"metadata\": nul'\n",
              "              b'l}, {\"name\": \"Hillshade_3pm\", \"field_name\": \"Hillshade_3pm\",'\n",
              "              b' \"pandas_type\": \"float64\", \"numpy_type\": \"float64\", \"metadat'\n",
              "              b'a\": null}, {\"name\": \"Horizontal_Distance_To_Fire_Points\", \"f'\n",
              "              b'ield_name\": \"Horizontal_Distance_To_Fire_Points\", \"pandas_ty'\n",
              "              b'pe\": \"float64\", \"numpy_type\": \"float64\", \"metadata\": null}, '\n",
              "              b'{\"name\": \"Wilderness_Area1\", \"field_name\": \"Wilderness_Area1'\n",
              "              b'\", \"pandas_type\": \"float64\", \"numpy_type\": \"float64\", \"metad'\n",
              "              b'ata\": null}, {\"name\": \"Wilderness_Area2\", \"field_name\": \"Wil'\n",
              "              b'derness_Area2\", \"pandas_type\": \"float64\", \"numpy_type\": \"flo'\n",
              "              b'at64\", \"metadata\": null}, {\"name\": \"Wilderness_Area3\", \"fiel'\n",
              "              b'd_name\": \"Wilderness_Area3\", \"pandas_type\": \"float64\", \"nump'\n",
              "              b'y_type\": \"float64\", \"metadata\": null}, {\"name\": \"Wilderness_'\n",
              "              b'Area4\", \"field_name\": \"Wilderness_Area4\", \"pandas_type\": \"fl'\n",
              "              b'oat64\", \"numpy_type\": \"float64\", \"metadata\": null}, {\"name\":'\n",
              "              b' \"Soil_Type1\", \"field_name\": \"Soil_Type1\", \"pandas_type\": \"f'\n",
              "              b'loat64\", \"numpy_type\": \"float64\", \"metadata\": null}, {\"name\"'\n",
              "              b': \"Soil_Type2\", \"field_name\": \"Soil_Type2\", \"pandas_type\": \"'\n",
              "              b'float64\", \"numpy_type\": \"float64\", \"metadata\": null}, {\"name'\n",
              "              b'\": \"Soil_Type3\", \"field_name\": \"Soil_Type3\", \"pandas_type\": '\n",
              "              b'\"float64\", \"numpy_type\": \"float64\", \"metadata\": null}, {\"nam'\n",
              "              b'e\": \"Soil_Type4\", \"field_name\": \"Soil_Type4\", \"pandas_type\":'\n",
              "              b' \"float64\", \"numpy_type\": \"float64\", \"metadata\": null}, {\"na'\n",
              "              b'me\": \"Soil_Type5\", \"field_name\": \"Soil_Type5\", \"pandas_type\"'\n",
              "              b': \"float64\", \"numpy_type\": \"float64\", \"metadata\": null}, {\"n'\n",
              "              b'ame\": \"Soil_Type6\", \"field_name\": \"Soil_Type6\", \"pandas_type'\n",
              "              b'\": \"float64\", \"numpy_type\": \"float64\", \"metadata\": null}, {\"'\n",
              "              b'name\": \"Soil_Type7\", \"field_name\": \"Soil_Type7\", \"pandas_typ'\n",
              "              b'e\": \"float64\", \"numpy_type\": \"float64\", \"metadata\": null}, {'\n",
              "              b'\"name\": \"Soil_Type8\", \"field_name\": \"Soil_Type8\", \"pandas_ty'\n",
              "              b'pe\": \"float64\", \"numpy_type\": \"float64\", \"metadata\": null}, '\n",
              "              b'{\"name\": \"Soil_Type9\", \"field_name\": \"Soil_Type9\", \"pandas_t'\n",
              "              b'ype\": \"float64\", \"numpy_type\": \"float64\", \"metadata\": null},'\n",
              "              b' {\"name\": \"Soil_Type10\", \"field_name\": \"Soil_Type10\", \"panda'\n",
              "              b's_type\": \"float64\", \"numpy_type\": \"float64\", \"metadata\": nul'\n",
              "              b'l}, {\"name\": \"Soil_Type11\", \"field_name\": \"Soil_Type11\", \"pa'\n",
              "              b'ndas_type\": \"float64\", \"numpy_type\": \"float64\", \"metadata\": '\n",
              "              b'null}, {\"name\": \"Soil_Type12\", \"field_name\": \"Soil_Type12\", '\n",
              "              b'\"pandas_type\": \"float64\", \"numpy_type\": \"float64\", \"metadata'\n",
              "              b'\": null}, {\"name\": \"Soil_Type13\", \"field_name\": \"Soil_Type13'\n",
              "              b'\", \"pandas_type\": \"float64\", \"numpy_type\": \"float64\", \"metad'\n",
              "              b'ata\": null}, {\"name\": \"Soil_Type14\", \"field_name\": \"Soil_Typ'\n",
              "              b'e14\", \"pandas_type\": \"float64\", \"numpy_type\": \"float64\", \"me'\n",
              "              b'tadata\": null}, {\"name\": \"Soil_Type15\", \"field_name\": \"Soil_'\n",
              "              b'Type15\", \"pandas_type\": \"float64\", \"numpy_type\": \"float64\", '\n",
              "              b'\"metadata\": null}, {\"name\": \"Soil_Type16\", \"field_name\": \"So'\n",
              "              b'il_Type16\", \"pandas_type\": \"float64\", \"numpy_type\": \"float64'\n",
              "              b'\", \"metadata\": null}, {\"name\": \"Soil_Type17\", \"field_name\": '\n",
              "              b'\"Soil_Type17\", \"pandas_type\": \"float64\", \"numpy_type\": \"floa'\n",
              "              b't64\", \"metadata\": null}, {\"name\": \"Soil_Type18\", \"field_name'\n",
              "              b'\": \"Soil_Type18\", \"pandas_type\": \"float64\", \"numpy_type\": \"f'\n",
              "              b'loat64\", \"metadata\": null}, {\"name\": \"Soil_Type19\", \"field_n'\n",
              "              b'ame\": \"Soil_Type19\", \"pandas_type\": \"float64\", \"numpy_type\":'\n",
              "              b' \"float64\", \"metadata\": null}, {\"name\": \"Soil_Type20\", \"fiel'\n",
              "              b'd_name\": \"Soil_Type20\", \"pandas_type\": \"float64\", \"numpy_typ'\n",
              "              b'e\": \"float64\", \"metadata\": null}, {\"name\": \"Soil_Type21\", \"f'\n",
              "              b'ield_name\": \"Soil_Type21\", \"pandas_type\": \"float64\", \"numpy_'\n",
              "              b'type\": \"float64\", \"metadata\": null}, {\"name\": \"Soil_Type22\",'\n",
              "              b' \"field_name\": \"Soil_Type22\", \"pandas_type\": \"float64\", \"num'\n",
              "              b'py_type\": \"float64\", \"metadata\": null}, {\"name\": \"Soil_Type2'\n",
              "              b'3\", \"field_name\": \"Soil_Type23\", \"pandas_type\": \"float64\", \"'\n",
              "              b'numpy_type\": \"float64\", \"metadata\": null}, {\"name\": \"Soil_Ty'\n",
              "              b'pe24\", \"field_name\": \"Soil_Type24\", \"pandas_type\": \"float64\"'\n",
              "              b', \"numpy_type\": \"float64\", \"metadata\": null}, {\"name\": \"Soil'\n",
              "              b'_Type25\", \"field_name\": \"Soil_Type25\", \"pandas_type\": \"float'\n",
              "              b'64\", \"numpy_type\": \"float64\", \"metadata\": null}, {\"name\": \"S'\n",
              "              b'oil_Type26\", \"field_name\": \"Soil_Type26\", \"pandas_type\": \"fl'\n",
              "              b'oat64\", \"numpy_type\": \"float64\", \"metadata\": null}, {\"name\":'\n",
              "              b' \"Soil_Type27\", \"field_name\": \"Soil_Type27\", \"pandas_type\": '\n",
              "              b'\"float64\", \"numpy_type\": \"float64\", \"metadata\": null}, {\"nam'\n",
              "              b'e\": \"Soil_Type28\", \"field_name\": \"Soil_Type28\", \"pandas_type'\n",
              "              b'\": \"float64\", \"numpy_type\": \"float64\", \"metadata\": null}, {\"'\n",
              "              b'name\": \"Soil_Type29\", \"field_name\": \"Soil_Type29\", \"pandas_t'\n",
              "              b'ype\": \"float64\", \"numpy_type\": \"float64\", \"metadata\": null},'\n",
              "              b' {\"name\": \"Soil_Type30\", \"field_name\": \"Soil_Type30\", \"panda'\n",
              "              b's_type\": \"float64\", \"numpy_type\": \"float64\", \"metadata\": nul'\n",
              "              b'l}, {\"name\": \"Soil_Type31\", \"field_name\": \"Soil_Type31\", \"pa'\n",
              "              b'ndas_type\": \"float64\", \"numpy_type\": \"float64\", \"metadata\": '\n",
              "              b'null}, {\"name\": \"Soil_Type32\", \"field_name\": \"Soil_Type32\", '\n",
              "              b'\"pandas_type\": \"float64\", \"numpy_type\": \"float64\", \"metadata'\n",
              "              b'\": null}, {\"name\": \"Soil_Type33\", \"field_name\": \"Soil_Type33'\n",
              "              b'\", \"pandas_type\": \"float64\", \"numpy_type\": \"float64\", \"metad'\n",
              "              b'ata\": null}, {\"name\": \"Soil_Type34\", \"field_name\": \"Soil_Typ'\n",
              "              b'e34\", \"pandas_type\": \"float64\", \"numpy_type\": \"float64\", \"me'\n",
              "              b'tadata\": null}, {\"name\": \"Soil_Type35\", \"field_name\": \"Soil_'\n",
              "              b'Type35\", \"pandas_type\": \"float64\", \"numpy_type\": \"float64\", '\n",
              "              b'\"metadata\": null}, {\"name\": \"Soil_Type36\", \"field_name\": \"So'\n",
              "              b'il_Type36\", \"pandas_type\": \"float64\", \"numpy_type\": \"float64'\n",
              "              b'\", \"metadata\": null}, {\"name\": \"Soil_Type37\", \"field_name\": '\n",
              "              b'\"Soil_Type37\", \"pandas_type\": \"float64\", \"numpy_type\": \"floa'\n",
              "              b't64\", \"metadata\": null}, {\"name\": \"Soil_Type38\", \"field_name'\n",
              "              b'\": \"Soil_Type38\", \"pandas_type\": \"float64\", \"numpy_type\": \"f'\n",
              "              b'loat64\", \"metadata\": null}, {\"name\": \"Soil_Type39\", \"field_n'\n",
              "              b'ame\": \"Soil_Type39\", \"pandas_type\": \"float64\", \"numpy_type\":'\n",
              "              b' \"float64\", \"metadata\": null}, {\"name\": \"Soil_Type40\", \"fiel'\n",
              "              b'd_name\": \"Soil_Type40\", \"pandas_type\": \"float64\", \"numpy_typ'\n",
              "              b'e\": \"float64\", \"metadata\": null}, {\"name\": \"target\", \"field_'\n",
              "              b'name\": \"target\", \"pandas_type\": \"int64\", \"numpy_type\": \"int6'\n",
              "              b'4\", \"metadata\": null}], \"creator\": {\"library\": \"pyarrow\", \"v'\n",
              "              b'ersion\": \"0.14.1\"}, \"pandas_version\": \"1.1.5\"}')])"
            ]
          },
          "metadata": {
            "tags": []
          },
          "execution_count": 26
        }
      ]
    },
    {
      "cell_type": "code",
      "metadata": {
        "id": "bZWa4Vh9eUoi"
      },
      "source": [
        "#loading train and test data\r\n",
        "train_data = GpuDataReader(spark).format('parquet').load('covtype_train.parquet')\r\n",
        "test_data = GpuDataReader(spark).format('parquet').load('covtype_test.parquet')"
      ],
      "execution_count": 27,
      "outputs": []
    },
    {
      "cell_type": "code",
      "metadata": {
        "id": "9zU_omzjeUrG",
        "outputId": "f472fcc6-9830-4c09-cb59-a235fcdd1512",
        "colab": {
          "base_uri": "https://localhost:8080/"
        }
      },
      "source": [
        "train_data.schema"
      ],
      "execution_count": 28,
      "outputs": [
        {
          "output_type": "execute_result",
          "data": {
            "text/plain": [
              "<bound method GpuDataset.schema of <ml.dmlc.xgboost4j.scala.spark.rapids.GpuDataset object at 0x7f956892b470>>"
            ]
          },
          "metadata": {
            "tags": []
          },
          "execution_count": 28
        }
      ]
    },
    {
      "cell_type": "code",
      "metadata": {
        "id": "fjIpQSEHeUuT"
      },
      "source": [
        "pq_file=pq.read_table('covtype_train.parquet')"
      ],
      "execution_count": 29,
      "outputs": []
    },
    {
      "cell_type": "code",
      "metadata": {
        "id": "dlqqvYrMeUwv",
        "outputId": "c7754dfb-885e-4461-a127-c6009e4b4b31",
        "colab": {
          "base_uri": "https://localhost:8080/"
        }
      },
      "source": [
        "\r\n",
        "pq_file.column_names"
      ],
      "execution_count": 30,
      "outputs": [
        {
          "output_type": "execute_result",
          "data": {
            "text/plain": [
              "['Elevation',\n",
              " 'Aspect',\n",
              " 'Slope',\n",
              " 'Horizontal_Distance_To_Hydrology',\n",
              " 'Vertical_Distance_To_Hydrology',\n",
              " 'Horizontal_Distance_To_Roadways',\n",
              " 'Hillshade_9am',\n",
              " 'Hillshade_Noon',\n",
              " 'Hillshade_3pm',\n",
              " 'Horizontal_Distance_To_Fire_Points',\n",
              " 'Wilderness_Area1',\n",
              " 'Wilderness_Area2',\n",
              " 'Wilderness_Area3',\n",
              " 'Wilderness_Area4',\n",
              " 'Soil_Type1',\n",
              " 'Soil_Type2',\n",
              " 'Soil_Type3',\n",
              " 'Soil_Type4',\n",
              " 'Soil_Type5',\n",
              " 'Soil_Type6',\n",
              " 'Soil_Type7',\n",
              " 'Soil_Type8',\n",
              " 'Soil_Type9',\n",
              " 'Soil_Type10',\n",
              " 'Soil_Type11',\n",
              " 'Soil_Type12',\n",
              " 'Soil_Type13',\n",
              " 'Soil_Type14',\n",
              " 'Soil_Type15',\n",
              " 'Soil_Type16',\n",
              " 'Soil_Type17',\n",
              " 'Soil_Type18',\n",
              " 'Soil_Type19',\n",
              " 'Soil_Type20',\n",
              " 'Soil_Type21',\n",
              " 'Soil_Type22',\n",
              " 'Soil_Type23',\n",
              " 'Soil_Type24',\n",
              " 'Soil_Type25',\n",
              " 'Soil_Type26',\n",
              " 'Soil_Type27',\n",
              " 'Soil_Type28',\n",
              " 'Soil_Type29',\n",
              " 'Soil_Type30',\n",
              " 'Soil_Type31',\n",
              " 'Soil_Type32',\n",
              " 'Soil_Type33',\n",
              " 'Soil_Type34',\n",
              " 'Soil_Type35',\n",
              " 'Soil_Type36',\n",
              " 'Soil_Type37',\n",
              " 'Soil_Type38',\n",
              " 'Soil_Type39',\n",
              " 'Soil_Type40',\n",
              " 'target']"
            ]
          },
          "metadata": {
            "tags": []
          },
          "execution_count": 30
        }
      ]
    },
    {
      "cell_type": "code",
      "metadata": {
        "id": "fUCAtc3ieUzq"
      },
      "source": [
        "label=\"target\"\r\n",
        "features = [ x for x in pq_file.column_names if x != label ]"
      ],
      "execution_count": 31,
      "outputs": []
    },
    {
      "cell_type": "code",
      "metadata": {
        "id": "JVVTJrI1eU2o"
      },
      "source": [
        "import time\r\n",
        "params = { \r\n",
        "    'eta': 0.1,\r\n",
        "    'gamma': 0.1,\r\n",
        "    'missing': 0.0,\r\n",
        "    'treeMethod': 'gpu_hist',\r\n",
        "    'maxDepth': 8, \r\n",
        "    'growPolicy': 'depthwise',\r\n",
        "    'lambda_': 1.0,\r\n",
        "    'subsample': 1.0,\r\n",
        "    'numRound': 1000,\r\n",
        "    'numWorkers': 1,\r\n",
        "    'verbosity': 1\r\n",
        "}\r\n",
        "classifier = XGBoostClassifier(**params).setLabelCol(label).setFeaturesCols(features)"
      ],
      "execution_count": 32,
      "outputs": []
    },
    {
      "cell_type": "code",
      "metadata": {
        "id": "yOgC2K1EeVQn",
        "outputId": "3baade83-e5e2-4070-90cd-f52188d81c9a",
        "colab": {
          "base_uri": "https://localhost:8080/"
        }
      },
      "source": [
        "start_time = time.time()\r\n",
        "\r\n",
        "model=classifier.fit(train_data)\r\n",
        "\r\n",
        "print(\"GPU Training Time: %s seconds\" % (str(time.time() - start_time)))"
      ],
      "execution_count": 33,
      "outputs": [
        {
          "output_type": "stream",
          "text": [
            "GPU Training Time: 26.430508375167847 seconds\n"
          ],
          "name": "stdout"
        }
      ]
    },
    {
      "cell_type": "code",
      "metadata": {
        "id": "ZPdBSK31eVUJ",
        "outputId": "8c82b73c-4498-4165-e9ff-fada2b012914",
        "colab": {
          "base_uri": "https://localhost:8080/"
        }
      },
      "source": [
        "!nvidia-smi"
      ],
      "execution_count": 34,
      "outputs": [
        {
          "output_type": "stream",
          "text": [
            "Thu Jan  7 06:58:41 2021       \n",
            "+-----------------------------------------------------------------------------+\n",
            "| NVIDIA-SMI 460.27.04    Driver Version: 418.67       CUDA Version: 10.1     |\n",
            "|-------------------------------+----------------------+----------------------+\n",
            "| GPU  Name        Persistence-M| Bus-Id        Disp.A | Volatile Uncorr. ECC |\n",
            "| Fan  Temp  Perf  Pwr:Usage/Cap|         Memory-Usage | GPU-Util  Compute M. |\n",
            "|                               |                      |               MIG M. |\n",
            "|===============================+======================+======================|\n",
            "|   0  Tesla T4            Off  | 00000000:00:04.0 Off |                    0 |\n",
            "| N/A   55C    P0    28W /  70W |   1033MiB / 15079MiB |      0%      Default |\n",
            "|                               |                      |                 ERR! |\n",
            "+-------------------------------+----------------------+----------------------+\n",
            "                                                                               \n",
            "+-----------------------------------------------------------------------------+\n",
            "| Processes:                                                                  |\n",
            "|  GPU   GI   CI        PID   Type   Process name                  GPU Memory |\n",
            "|        ID   ID                                                   Usage      |\n",
            "|=============================================================================|\n",
            "|  No running processes found                                                 |\n",
            "+-----------------------------------------------------------------------------+\n"
          ],
          "name": "stdout"
        }
      ]
    },
    {
      "cell_type": "code",
      "metadata": {
        "id": "bengSxAKeVXG"
      },
      "source": [
        "model.write().overwrite().save('/content/model/')"
      ],
      "execution_count": 35,
      "outputs": []
    },
    {
      "cell_type": "code",
      "metadata": {
        "id": "PX2XHU4xeVaM"
      },
      "source": [
        "!ls"
      ],
      "execution_count": null,
      "outputs": []
    },
    {
      "cell_type": "code",
      "metadata": {
        "id": "UEhZnQlReVc1"
      },
      "source": [
        "loaded_model = XGBoostClassificationModel().load('/content/model/')"
      ],
      "execution_count": 36,
      "outputs": []
    },
    {
      "cell_type": "code",
      "metadata": {
        "id": "n3Lv8VFdeVf6"
      },
      "source": [
        "result=loaded_model.transform(test_data)"
      ],
      "execution_count": 37,
      "outputs": []
    },
    {
      "cell_type": "code",
      "metadata": {
        "id": "cZz_jYwFeVjC",
        "outputId": "3ad2db7e-c0a7-4acd-c062-d40257ea0613",
        "colab": {
          "base_uri": "https://localhost:8080/"
        }
      },
      "source": [
        "result.show()"
      ],
      "execution_count": 38,
      "outputs": [
        {
          "output_type": "stream",
          "text": [
            "+---------+------+-----+--------------------------------+------------------------------+-------------------------------+-------------+--------------+-------------+----------------------------------+----------------+----------------+----------------+----------------+----------+----------+----------+----------+----------+----------+----------+----------+----------+-----------+-----------+-----------+-----------+-----------+-----------+-----------+-----------+-----------+-----------+-----------+-----------+-----------+-----------+-----------+-----------+-----------+-----------+-----------+-----------+-----------+-----------+-----------+-----------+-----------+-----------+-----------+-----------+-----------+-----------+-----------+------+--------------------+--------------------+----------+\n",
            "|Elevation|Aspect|Slope|Horizontal_Distance_To_Hydrology|Vertical_Distance_To_Hydrology|Horizontal_Distance_To_Roadways|Hillshade_9am|Hillshade_Noon|Hillshade_3pm|Horizontal_Distance_To_Fire_Points|Wilderness_Area1|Wilderness_Area2|Wilderness_Area3|Wilderness_Area4|Soil_Type1|Soil_Type2|Soil_Type3|Soil_Type4|Soil_Type5|Soil_Type6|Soil_Type7|Soil_Type8|Soil_Type9|Soil_Type10|Soil_Type11|Soil_Type12|Soil_Type13|Soil_Type14|Soil_Type15|Soil_Type16|Soil_Type17|Soil_Type18|Soil_Type19|Soil_Type20|Soil_Type21|Soil_Type22|Soil_Type23|Soil_Type24|Soil_Type25|Soil_Type26|Soil_Type27|Soil_Type28|Soil_Type29|Soil_Type30|Soil_Type31|Soil_Type32|Soil_Type33|Soil_Type34|Soil_Type35|Soil_Type36|Soil_Type37|Soil_Type38|Soil_Type39|Soil_Type40|target|       rawPrediction|         probability|prediction|\n",
            "+---------+------+-----+--------------------------------+------------------------------+-------------------------------+-------------+--------------+-------------+----------------------------------+----------------+----------------+----------------+----------------+----------+----------+----------+----------+----------+----------+----------+----------+----------+-----------+-----------+-----------+-----------+-----------+-----------+-----------+-----------+-----------+-----------+-----------+-----------+-----------+-----------+-----------+-----------+-----------+-----------+-----------+-----------+-----------+-----------+-----------+-----------+-----------+-----------+-----------+-----------+-----------+-----------+-----------+------+--------------------+--------------------+----------+\n",
            "|   2804.0| 139.0|  9.0|                           268.0|                          65.0|                         3180.0|        234.0|         238.0|        135.0|                            6121.0|             1.0|             0.0|             0.0|             0.0|       0.0|       0.0|       0.0|       0.0|       0.0|       0.0|       0.0|       0.0|       0.0|        0.0|        0.0|        1.0|        0.0|        0.0|        0.0|        0.0|        0.0|        0.0|        0.0|        0.0|        0.0|        0.0|        0.0|        0.0|        0.0|        0.0|        0.0|        0.0|        0.0|        0.0|        0.0|        0.0|        0.0|        0.0|        0.0|        0.0|        0.0|        0.0|        0.0|        0.0|   1.0|[-0.7568430304527...|[0.24315696954727...|       1.0|\n",
            "|   2595.0|  45.0|  2.0|                           153.0|                          -1.0|                          391.0|        220.0|         234.0|        150.0|                            6172.0|             1.0|             0.0|             0.0|             0.0|       0.0|       0.0|       0.0|       0.0|       0.0|       0.0|       0.0|       0.0|       0.0|        0.0|        0.0|        0.0|        0.0|        0.0|        0.0|        0.0|        0.0|        0.0|        0.0|        0.0|        0.0|        0.0|        0.0|        0.0|        0.0|        0.0|        0.0|        0.0|        1.0|        0.0|        0.0|        0.0|        0.0|        0.0|        0.0|        0.0|        0.0|        0.0|        0.0|        0.0|   4.0|[-3.6298184394836...|[-2.6298184394836...|       1.0|\n",
            "|   2606.0|  45.0|  7.0|                           270.0|                           5.0|                          633.0|        222.0|         225.0|        138.0|                            6256.0|             1.0|             0.0|             0.0|             0.0|       0.0|       0.0|       0.0|       0.0|       0.0|       0.0|       0.0|       0.0|       0.0|        0.0|        0.0|        0.0|        0.0|        0.0|        0.0|        0.0|        0.0|        0.0|        0.0|        0.0|        0.0|        0.0|        0.0|        0.0|        0.0|        0.0|        0.0|        0.0|        1.0|        0.0|        0.0|        0.0|        0.0|        0.0|        0.0|        0.0|        0.0|        0.0|        0.0|        0.0|   4.0|[-3.8870322704315...|[-2.8870322704315...|       1.0|\n",
            "|   2612.0| 201.0|  4.0|                           180.0|                          51.0|                          735.0|        218.0|         243.0|        161.0|                            6222.0|             1.0|             0.0|             0.0|             0.0|       0.0|       0.0|       0.0|       0.0|       0.0|       0.0|       0.0|       0.0|       0.0|        0.0|        0.0|        0.0|        0.0|        0.0|        0.0|        0.0|        0.0|        1.0|        0.0|        0.0|        0.0|        0.0|        0.0|        0.0|        0.0|        0.0|        0.0|        0.0|        0.0|        0.0|        0.0|        0.0|        0.0|        0.0|        0.0|        0.0|        0.0|        0.0|        0.0|        0.0|   4.0|[-2.7785820960998...|[-1.7785820960998...|       1.0|\n",
            "|   2609.0| 214.0|  7.0|                           150.0|                          46.0|                          771.0|        213.0|         247.0|        170.0|                            6211.0|             1.0|             0.0|             0.0|             0.0|       0.0|       0.0|       0.0|       0.0|       0.0|       0.0|       0.0|       0.0|       0.0|        0.0|        0.0|        0.0|        0.0|        0.0|        0.0|        0.0|        0.0|        1.0|        0.0|        0.0|        0.0|        0.0|        0.0|        0.0|        0.0|        0.0|        0.0|        0.0|        0.0|        0.0|        0.0|        0.0|        0.0|        0.0|        0.0|        0.0|        0.0|        0.0|        0.0|        0.0|   4.0|[-3.4576005935668...|[-2.4576005935668...|       1.0|\n",
            "|   2495.0|  51.0|  7.0|                            42.0|                           2.0|                          752.0|        224.0|         225.0|        137.0|                            5576.0|             1.0|             0.0|             0.0|             0.0|       0.0|       0.0|       0.0|       0.0|       0.0|       0.0|       0.0|       0.0|       0.0|        0.0|        0.0|        0.0|        0.0|        0.0|        0.0|        1.0|        0.0|        0.0|        0.0|        0.0|        0.0|        0.0|        0.0|        0.0|        0.0|        0.0|        0.0|        0.0|        0.0|        0.0|        0.0|        0.0|        0.0|        0.0|        0.0|        0.0|        0.0|        0.0|        0.0|        0.0|   4.0|[-2.3506617546081...|[-1.3506617546081...|       1.0|\n",
            "|   2610.0| 259.0|  1.0|                           120.0|                          -1.0|                          607.0|        216.0|         239.0|        161.0|                            6096.0|             1.0|             0.0|             0.0|             0.0|       0.0|       0.0|       0.0|       0.0|       0.0|       0.0|       0.0|       0.0|       0.0|        0.0|        0.0|        0.0|        0.0|        0.0|        0.0|        0.0|        0.0|        0.0|        0.0|        0.0|        0.0|        0.0|        0.0|        0.0|        0.0|        0.0|        0.0|        0.0|        1.0|        0.0|        0.0|        0.0|        0.0|        0.0|        0.0|        0.0|        0.0|        0.0|        0.0|        0.0|   4.0|[-1.2895618677139...|[-0.2895618677139...|       1.0|\n",
            "|   2503.0|  38.0|  5.0|                            85.0|                          10.0|                          741.0|        220.0|         228.0|        144.0|                            5555.0|             1.0|             0.0|             0.0|             0.0|       0.0|       0.0|       0.0|       0.0|       0.0|       0.0|       0.0|       0.0|       0.0|        0.0|        0.0|        0.0|        0.0|        0.0|        0.0|        0.0|        0.0|        1.0|        0.0|        0.0|        0.0|        0.0|        0.0|        0.0|        0.0|        0.0|        0.0|        0.0|        0.0|        0.0|        0.0|        0.0|        0.0|        0.0|        0.0|        0.0|        0.0|        0.0|        0.0|        0.0|   4.0|[-2.7938017845153...|[-1.7938017845153...|       1.0|\n",
            "|   2880.0| 209.0| 17.0|                           216.0|                          30.0|                         4986.0|        206.0|         253.0|        179.0|                            4323.0|             1.0|             0.0|             0.0|             0.0|       0.0|       0.0|       0.0|       0.0|       0.0|       0.0|       0.0|       0.0|       0.0|        0.0|        0.0|        0.0|        0.0|        0.0|        0.0|        0.0|        0.0|        0.0|        0.0|        0.0|        0.0|        0.0|        0.0|        0.0|        0.0|        0.0|        0.0|        0.0|        0.0|        1.0|        0.0|        0.0|        0.0|        0.0|        0.0|        0.0|        0.0|        0.0|        0.0|        0.0|   1.0|[-1.0249875783920...|[-0.0249875783920...|       1.0|\n",
            "|   2768.0| 114.0| 23.0|                           192.0|                          82.0|                         3339.0|        252.0|         209.0|         71.0|                            5972.0|             1.0|             0.0|             0.0|             0.0|       0.0|       0.0|       0.0|       0.0|       0.0|       0.0|       0.0|       0.0|       0.0|        0.0|        0.0|        0.0|        0.0|        0.0|        0.0|        0.0|        0.0|        0.0|        0.0|        0.0|        0.0|        0.0|        0.0|        0.0|        0.0|        0.0|        0.0|        0.0|        0.0|        1.0|        0.0|        0.0|        0.0|        0.0|        0.0|        0.0|        0.0|        0.0|        0.0|        0.0|   4.0|[-2.6261506080627...|[-1.6261506080627...|       1.0|\n",
            "|   2507.0|  22.0|  9.0|                           120.0|                          14.0|                          732.0|        215.0|         221.0|        143.0|                            5534.0|             1.0|             0.0|             0.0|             0.0|       0.0|       0.0|       0.0|       0.0|       0.0|       0.0|       0.0|       0.0|       0.0|        0.0|        0.0|        0.0|        0.0|        0.0|        0.0|        0.0|        0.0|        1.0|        0.0|        0.0|        0.0|        0.0|        0.0|        0.0|        0.0|        0.0|        0.0|        0.0|        0.0|        0.0|        0.0|        0.0|        0.0|        0.0|        0.0|        0.0|        0.0|        0.0|        0.0|        0.0|   4.0|[-3.2090716361999...|[-2.2090716361999...|       1.0|\n",
            "|   2492.0| 135.0|  6.0|                             0.0|                           0.0|                          860.0|        229.0|         237.0|        142.0|                            5494.0|             1.0|             0.0|             0.0|             0.0|       0.0|       0.0|       0.0|       0.0|       0.0|       0.0|       0.0|       0.0|       0.0|        0.0|        0.0|        0.0|        0.0|        0.0|        0.0|        0.0|        0.0|        1.0|        0.0|        0.0|        0.0|        0.0|        0.0|        0.0|        0.0|        0.0|        0.0|        0.0|        0.0|        0.0|        0.0|        0.0|        0.0|        0.0|        0.0|        0.0|        0.0|        0.0|        0.0|        0.0|   4.0|[-2.6640186309814...|[-1.6640186309814...|       1.0|\n",
            "|   2678.0| 128.0|  5.0|                            95.0|                          23.0|                         1660.0|        229.0|         236.0|        141.0|                            6546.0|             1.0|             0.0|             0.0|             0.0|       0.0|       0.0|       0.0|       0.0|       0.0|       0.0|       0.0|       0.0|       0.0|        0.0|        0.0|        1.0|        0.0|        0.0|        0.0|        0.0|        0.0|        0.0|        0.0|        0.0|        0.0|        0.0|        0.0|        0.0|        0.0|        0.0|        0.0|        0.0|        0.0|        0.0|        0.0|        0.0|        0.0|        0.0|        0.0|        0.0|        0.0|        0.0|        0.0|        0.0|   1.0|[-0.8371136188507...|[0.16288638114929...|       1.0|\n",
            "|   2489.0| 100.0|  7.0|                            85.0|                          13.0|                          810.0|        232.0|         231.0|        131.0|                            5334.0|             1.0|             0.0|             0.0|             0.0|       0.0|       0.0|       0.0|       0.0|       0.0|       0.0|       0.0|       0.0|       0.0|        0.0|        0.0|        0.0|        0.0|        0.0|        0.0|        0.0|        0.0|        1.0|        0.0|        0.0|        0.0|        0.0|        0.0|        0.0|        0.0|        0.0|        0.0|        0.0|        0.0|        0.0|        0.0|        0.0|        0.0|        0.0|        0.0|        0.0|        0.0|        0.0|        0.0|        0.0|   4.0|[-2.7056598663330...|[-1.7056598663330...|       1.0|\n",
            "|   2722.0| 315.0| 24.0|                            30.0|                          19.0|                         3216.0|        148.0|         212.0|        200.0|                            6132.0|             1.0|             0.0|             0.0|             0.0|       0.0|       0.0|       0.0|       0.0|       0.0|       0.0|       0.0|       0.0|       0.0|        0.0|        0.0|        0.0|        0.0|        0.0|        0.0|        1.0|        0.0|        0.0|        0.0|        0.0|        0.0|        0.0|        0.0|        0.0|        0.0|        0.0|        0.0|        0.0|        0.0|        0.0|        0.0|        0.0|        0.0|        0.0|        0.0|        0.0|        0.0|        0.0|        0.0|        0.0|   0.0|[-0.3671200871467...|[0.63287991285324...|       0.0|\n",
            "|   2705.0|  90.0|  8.0|                           134.0|                          22.0|                         2023.0|        232.0|         228.0|        129.0|                            6615.0|             1.0|             0.0|             0.0|             0.0|       0.0|       0.0|       0.0|       0.0|       0.0|       0.0|       0.0|       0.0|       0.0|        0.0|        0.0|        1.0|        0.0|        0.0|        0.0|        0.0|        0.0|        0.0|        0.0|        0.0|        0.0|        0.0|        0.0|        0.0|        0.0|        0.0|        0.0|        0.0|        0.0|        0.0|        0.0|        0.0|        0.0|        0.0|        0.0|        0.0|        0.0|        0.0|        0.0|        0.0|   1.0|[-0.6324079632759...|[0.36759203672409...|       1.0|\n",
            "|   2509.0|  59.0|  7.0|                           134.0|                          10.0|                          900.0|        226.0|         226.0|        134.0|                            5184.0|             1.0|             0.0|             0.0|             0.0|       0.0|       0.0|       0.0|       0.0|       0.0|       0.0|       0.0|       0.0|       0.0|        0.0|        0.0|        0.0|        0.0|        0.0|        0.0|        0.0|        0.0|        1.0|        0.0|        0.0|        0.0|        0.0|        0.0|        0.0|        0.0|        0.0|        0.0|        0.0|        0.0|        0.0|        0.0|        0.0|        0.0|        0.0|        0.0|        0.0|        0.0|        0.0|        0.0|        0.0|   4.0|[-1.9061784744262...|[-0.9061784744262...|       1.0|\n",
            "|   2791.0|  63.0| 10.0|                           418.0|                          48.0|                         2942.0|        229.0|         221.0|        124.0|                            6606.0|             1.0|             0.0|             0.0|             0.0|       0.0|       0.0|       0.0|       0.0|       0.0|       0.0|       0.0|       0.0|       0.0|        0.0|        0.0|        1.0|        0.0|        0.0|        0.0|        0.0|        0.0|        0.0|        0.0|        0.0|        0.0|        0.0|        0.0|        0.0|        0.0|        0.0|        0.0|        0.0|        0.0|        0.0|        0.0|        0.0|        0.0|        0.0|        0.0|        0.0|        0.0|        0.0|        0.0|        0.0|   1.0|[-0.8292632102966...|[0.17073678970336...|       1.0|\n",
            "|   2998.0|  45.0|  8.0|                           351.0|                          16.0|                         5842.0|        223.0|         222.0|        134.0|                            3721.0|             1.0|             0.0|             0.0|             0.0|       0.0|       0.0|       0.0|       0.0|       0.0|       0.0|       0.0|       0.0|       0.0|        0.0|        0.0|        0.0|        0.0|        0.0|        0.0|        0.0|        0.0|        0.0|        0.0|        0.0|        0.0|        0.0|        0.0|        0.0|        0.0|        0.0|        0.0|        0.0|        1.0|        0.0|        0.0|        0.0|        0.0|        0.0|        0.0|        0.0|        0.0|        0.0|        0.0|        0.0|   1.0|[-0.7605693340301...|[0.23943066596984...|       1.0|\n",
            "|   3067.0|  32.0|  4.0|                            30.0|                          -2.0|                         6679.0|        219.0|         230.0|        147.0|                            2947.0|             1.0|             0.0|             0.0|             0.0|       0.0|       0.0|       0.0|       0.0|       0.0|       0.0|       0.0|       0.0|       0.0|        0.0|        0.0|        0.0|        0.0|        0.0|        0.0|        0.0|        0.0|        0.0|        0.0|        1.0|        0.0|        0.0|        0.0|        0.0|        0.0|        0.0|        0.0|        0.0|        0.0|        0.0|        0.0|        0.0|        0.0|        0.0|        0.0|        0.0|        0.0|        0.0|        0.0|        0.0|   1.0|[-1.0381704568862...|[-0.0381704568862...|       1.0|\n",
            "+---------+------+-----+--------------------------------+------------------------------+-------------------------------+-------------+--------------+-------------+----------------------------------+----------------+----------------+----------------+----------------+----------+----------+----------+----------+----------+----------+----------+----------+----------+-----------+-----------+-----------+-----------+-----------+-----------+-----------+-----------+-----------+-----------+-----------+-----------+-----------+-----------+-----------+-----------+-----------+-----------+-----------+-----------+-----------+-----------+-----------+-----------+-----------+-----------+-----------+-----------+-----------+-----------+-----------+------+--------------------+--------------------+----------+\n",
            "only showing top 20 rows\n",
            "\n"
          ],
          "name": "stdout"
        }
      ]
    },
    {
      "cell_type": "code",
      "metadata": {
        "id": "B5tXrrK3eVll",
        "outputId": "fe2c82bd-1ac8-4ec0-ce99-9ed3e1e5cb4e",
        "colab": {
          "base_uri": "https://localhost:8080/"
        }
      },
      "source": [
        "MulticlassClassificationEvaluator().setLabelCol(label).evaluate(result)"
      ],
      "execution_count": 39,
      "outputs": [
        {
          "output_type": "execute_result",
          "data": {
            "text/plain": [
              "0.7150737621430462"
            ]
          },
          "metadata": {
            "tags": []
          },
          "execution_count": 39
        }
      ]
    }
  ]
}